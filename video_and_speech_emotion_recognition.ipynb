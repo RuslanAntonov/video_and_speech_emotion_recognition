{
  "nbformat": 4,
  "nbformat_minor": 0,
  "metadata": {
    "colab": {
      "name": "video_and_speech_emotion_recognition.ipynb",
      "provenance": [],
      "collapsed_sections": [],
      "authorship_tag": "ABX9TyOXyEWpwbfeOzi9Ws2oJg6z",
      "include_colab_link": true
    },
    "kernelspec": {
      "name": "python3",
      "display_name": "Python 3"
    },
    "language_info": {
      "name": "python"
    },
    "accelerator": "GPU",
    "gpuClass": "standard"
  },
  "cells": [
    {
      "cell_type": "markdown",
      "metadata": {
        "id": "view-in-github",
        "colab_type": "text"
      },
      "source": [
        "<a href=\"https://colab.research.google.com/github/RuslanAntonov/video_and_speech_emotion_recognition/blob/main/video_and_speech_emotion_recognition.ipynb\" target=\"_parent\"><img src=\"https://colab.research.google.com/assets/colab-badge.svg\" alt=\"Open In Colab\"/></a>"
      ]
    },
    {
      "cell_type": "code",
      "source": [
        "from google.colab import drive\n",
        "drive.mount('/content/gdrive')"
      ],
      "metadata": {
        "colab": {
          "base_uri": "https://localhost:8080/"
        },
        "id": "VCAYn1hNIsUE",
        "outputId": "fa33133d-27b2-4c61-b825-c75e1030c99e"
      },
      "execution_count": 1,
      "outputs": [
        {
          "output_type": "stream",
          "name": "stdout",
          "text": [
            "Mounted at /content/gdrive\n"
          ]
        }
      ]
    },
    {
      "cell_type": "code",
      "source": [
        "!unzip /content/gdrive/MyDrive/test_task/data.zip"
      ],
      "metadata": {
        "id": "7OUG_RE0Mqyf"
      },
      "execution_count": null,
      "outputs": []
    },
    {
      "cell_type": "code",
      "source": [
        "!pip install -r requirements.txt"
      ],
      "metadata": {
        "id": "4Nzy0jlDJpiR"
      },
      "execution_count": null,
      "outputs": []
    },
    {
      "cell_type": "code",
      "source": [
        "from video_emo_rec import *\n",
        "from audio_emo_rec import *\n",
        "from statistics import *"
      ],
      "metadata": {
        "id": "deMtoaVwJc4z"
      },
      "execution_count": 3,
      "outputs": []
    },
    {
      "cell_type": "code",
      "source": [
        "device = torch.device('cuda' if torch.cuda.is_available() else 'cpu')\n",
        "\n",
        "video_name = 'video_short.mp4'"
      ],
      "metadata": {
        "id": "dlQxyGEtJGJh"
      },
      "execution_count": 4,
      "outputs": []
    },
    {
      "cell_type": "code",
      "source": [
        "#Временные метки интервалов для видео\n",
        "video_intervals = video_emo_rec(video_name, device)\n",
        "print(video_intervals)"
      ],
      "metadata": {
        "colab": {
          "base_uri": "https://localhost:8080/"
        },
        "id": "yXfqWRfcJSeN",
        "outputId": "ca39e936-112d-442d-a2fd-9d9056a5aeef"
      },
      "execution_count": 5,
      "outputs": [
        {
          "output_type": "stream",
          "name": "stdout",
          "text": [
            "Running on device: cuda\n",
            "FPS: 25\n",
            "Start video processing\n",
            "    emotion  start    end\n",
            "0   Neutral   0.00   1.92\n",
            "1       Sad   1.92   2.36\n",
            "2   Neutral   2.36   2.64\n",
            "3       Sad   2.64   2.84\n",
            "4   Neutral   2.84   2.88\n",
            "5       Sad   2.88   2.92\n",
            "6     Happy   2.92   2.96\n",
            "7      Fear   2.96   3.00\n",
            "8       Sad   3.00   3.28\n",
            "9   Neutral   3.28   3.44\n",
            "10      Sad   3.44   3.48\n",
            "11  Neutral   3.48   4.04\n",
            "12      Sad   4.04   4.08\n",
            "13  Neutral   4.08   4.12\n",
            "14      Sad   4.12   4.88\n",
            "15  Neutral   4.88   5.04\n",
            "16      Sad   5.04   5.16\n",
            "17  Neutral   5.16   5.40\n",
            "18      Sad   5.40   5.48\n",
            "19  Neutral   5.48   5.60\n",
            "20      Sad   5.60   5.76\n",
            "21  Neutral   5.76   6.24\n",
            "22      Sad   6.24   8.48\n",
            "23  Neutral   8.48  10.08\n"
          ]
        }
      ]
    },
    {
      "cell_type": "code",
      "source": [
        "#Временные метки интервалов для аудио\n",
        "audio_intervals = audio_emo_rec(video_name,device,video_intervals)\n",
        "print(audio_intervals)"
      ],
      "metadata": {
        "id": "yXRAGyU9JT_L",
        "colab": {
          "base_uri": "https://localhost:8080/"
        },
        "outputId": "f282659e-e053-4df6-825d-b42f70bc2db6"
      },
      "execution_count": 6,
      "outputs": [
        {
          "output_type": "stream",
          "name": "stderr",
          "text": [
            "Explicitly passing a `revision` is encouraged when loading a configuration with custom code to ensure no malicious code has been contributed in a newer revision.\n",
            "Explicitly passing a `revision` is encouraged when loading a configuration with custom code to ensure no malicious code has been contributed in a newer revision.\n",
            "Explicitly passing a `revision` is encouraged when loading a model with custom code to ensure no malicious code has been contributed in a newer revision.\n"
          ]
        },
        {
          "output_type": "stream",
          "name": "stdout",
          "text": [
            "Start audio processing\n",
            "MoviePy - Writing audio in sound.wav\n"
          ]
        },
        {
          "output_type": "stream",
          "name": "stderr",
          "text": [
            "                                                       "
          ]
        },
        {
          "output_type": "stream",
          "name": "stdout",
          "text": [
            "MoviePy - Done.\n"
          ]
        },
        {
          "output_type": "stream",
          "name": "stderr",
          "text": [
            "\r"
          ]
        },
        {
          "output_type": "stream",
          "name": "stdout",
          "text": [
            "     emotion  start    end\n",
            "0       Fear   0.00   1.92\n",
            "1    Neutral   1.92   2.36\n",
            "2    Neutral   2.36   2.64\n",
            "3    Neutral   2.64   2.84\n",
            "4    Neutral   2.84   2.88\n",
            "5      Happy   2.88   2.92\n",
            "6    Neutral   2.92   2.96\n",
            "7    Neutral   2.96   3.00\n",
            "8      Happy   3.00   3.28\n",
            "9        Sad   3.28   3.44\n",
            "10   Neutral   3.44   3.48\n",
            "11      Fear   3.48   4.04\n",
            "12   Neutral   4.04   4.08\n",
            "13   Neutral   4.08   4.12\n",
            "14  Surprise   4.12   4.88\n",
            "15       Sad   4.88   5.04\n",
            "16       Sad   5.04   5.16\n",
            "17     Happy   5.16   5.40\n",
            "18     Happy   5.40   5.48\n",
            "19   Neutral   5.48   5.60\n",
            "20      Fear   5.60   5.76\n",
            "21  Surprise   5.76   6.24\n",
            "22      Fear   6.24   8.48\n",
            "23     Happy   8.48  10.08\n"
          ]
        }
      ]
    },
    {
      "cell_type": "code",
      "source": [
        "print('Start statistics')\n",
        "\n",
        "#Несоответствие в эмоциях для одних и тех интервалов для видео и аудио\n",
        "modality_mismatch = modality_mismatch(video_intervals, audio_intervals)\n",
        "print(modality_mismatch)"
      ],
      "metadata": {
        "id": "j0r54vziJVPG"
      },
      "execution_count": null,
      "outputs": []
    },
    {
      "cell_type": "code",
      "source": [
        "#Продолжительность интервалов, их начальные и конечные точки, предсказанные значения\n",
        "modality_duration = modality_duration(video_intervals,audio_intervals)\n",
        "print(modality_duration)"
      ],
      "metadata": {
        "id": "6q9RD68-JWd4",
        "colab": {
          "base_uri": "https://localhost:8080/"
        },
        "outputId": "fea56ea2-251a-4585-f2a3-3efcd149a0dc"
      },
      "execution_count": 8,
      "outputs": [
        {
          "output_type": "stream",
          "name": "stdout",
          "text": [
            "    duration  start    end video_emotion audio_emotion\n",
            "0       1.92   0.00   1.92       Neutral          Fear\n",
            "1       0.44   1.92   2.36           Sad       Neutral\n",
            "2       0.28   2.36   2.64       Neutral       Neutral\n",
            "3       0.20   2.64   2.84           Sad       Neutral\n",
            "4       0.04   2.84   2.88       Neutral       Neutral\n",
            "5       0.04   2.88   2.92           Sad         Happy\n",
            "6       0.04   2.92   2.96         Happy       Neutral\n",
            "7       0.04   2.96   3.00          Fear       Neutral\n",
            "8       0.28   3.00   3.28           Sad         Happy\n",
            "9       0.16   3.28   3.44       Neutral           Sad\n",
            "10      0.04   3.44   3.48           Sad       Neutral\n",
            "11      0.56   3.48   4.04       Neutral          Fear\n",
            "12      0.04   4.04   4.08           Sad       Neutral\n",
            "13      0.04   4.08   4.12       Neutral       Neutral\n",
            "14      0.76   4.12   4.88           Sad      Surprise\n",
            "15      0.16   4.88   5.04       Neutral           Sad\n",
            "16      0.12   5.04   5.16           Sad           Sad\n",
            "17      0.24   5.16   5.40       Neutral         Happy\n",
            "18      0.08   5.40   5.48           Sad         Happy\n",
            "19      0.12   5.48   5.60       Neutral       Neutral\n",
            "20      0.16   5.60   5.76           Sad          Fear\n",
            "21      0.48   5.76   6.24       Neutral      Surprise\n",
            "22      2.24   6.24   8.48           Sad          Fear\n",
            "23      1.60   8.48  10.08       Neutral         Happy\n"
          ]
        }
      ]
    },
    {
      "cell_type": "code",
      "source": [
        "#Количество переходов между граничными состояниями\n",
        "print('\\nNumber of transitions between boundary states:',\n",
        "      len(video_intervals.index))"
      ],
      "metadata": {
        "id": "jBWmAmJ6JXmy",
        "colab": {
          "base_uri": "https://localhost:8080/"
        },
        "outputId": "cc2841c6-4ff1-4938-8932-a2e6dd22297e"
      },
      "execution_count": 9,
      "outputs": [
        {
          "output_type": "stream",
          "name": "stdout",
          "text": [
            "\n",
            "Number of transitions between boundary states: 24\n",
            "\n",
            "Number of transitions between boundary states: 24\n"
          ]
        }
      ]
    }
  ]
}